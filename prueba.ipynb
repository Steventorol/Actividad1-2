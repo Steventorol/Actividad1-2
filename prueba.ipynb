{
 "cells": [
  {
   "cell_type": "code",
   "execution_count": 1,
   "metadata": {},
   "outputs": [
    {
     "name": "stdout",
     "output_type": "stream",
     "text": [
      "[1 4 5 7 8 9 4 3 8 9 4]\n",
      "11\n",
      "7\n",
      "[ 5 50  8  9  4  3  8]\n",
      "[5 9 8]\n",
      "1\n",
      "4\n",
      "5\n",
      "50\n",
      "8\n",
      "9\n",
      "4\n",
      "3\n",
      "8\n",
      "9\n",
      "4\n"
     ]
    }
   ],
   "source": [
    "import numpy as np\n",
    "vector = np.array([1,4,5,7,8,9,4,3,8,9,4])\n",
    "print(vector)\n",
    "\n",
    "\n",
    "\n",
    "# Cantidad de elementos del vector\n",
    "print(len(vector))\n",
    "\n",
    "# Indexacion del vector\n",
    "print(vector[3])\n",
    "\n",
    "# Actualizacion de valores del vector\n",
    "vector[3]=50\n",
    "\n",
    "# slicing del vector [indice_inicial:indice_fianl:paso]\n",
    "print(vector[2:9])\n",
    "print(vector[2:9:3])\n",
    "\n",
    "# Ciclos\n",
    "for valor in vector:\n",
    "  print(valor)\n",
    "     "
   ]
  },
  {
   "cell_type": "code",
   "execution_count": null,
   "metadata": {},
   "outputs": [],
   "source": []
  },
  {
   "cell_type": "code",
   "execution_count": null,
   "metadata": {},
   "outputs": [],
   "source": []
  },
  {
   "cell_type": "code",
   "execution_count": 10,
   "metadata": {},
   "outputs": [
    {
     "name": "stdout",
     "output_type": "stream",
     "text": [
      "47\n"
     ]
    }
   ],
   "source": [
    "vector1 = np.array([2,3,4])\n",
    "vector2 = np.array([4,5,6])\n",
    "\n",
    "resultado =np.dot(vector1,vector2)\n",
    "print(resultado)"
   ]
  },
  {
   "cell_type": "code",
   "execution_count": 16,
   "metadata": {},
   "outputs": [
    {
     "name": "stdout",
     "output_type": "stream",
     "text": [
      "Matriz con reshape (2, 8):\n",
      "[[ 0  1  2  3  4  5  6  7]\n",
      " [ 8  9 10 11 12 13 14 15]]\n"
     ]
    }
   ],
   "source": [
    "\n",
    "# Reshape para que sea de forma (2, 8)\n",
    "matriz_reshape = matriz.reshape(2, 8)\n",
    "print(\"Matriz con reshape (2, 8):\")\n",
    "print(matriz_reshape)\n"
   ]
  },
  {
   "cell_type": "code",
   "execution_count": 17,
   "metadata": {},
   "outputs": [
    {
     "name": "stdout",
     "output_type": "stream",
     "text": [
      "[5 7 9] \n",
      "\n",
      "[7 8 9] \n",
      "\n",
      "32 \n",
      "\n"
     ]
    }
   ],
   "source": [
    "\n",
    "import numpy as np\n",
    "vectorUno = np.array([1, 2, 3])\n",
    "vectorDos = np.array([4, 5, 6])\n",
    "\n",
    "# Suma de vectores\n",
    "suma = vectorUno + vectorDos\n",
    "print(suma,\"\\n\")\n",
    "\n",
    "sumaDos = vectorUno + 6\n",
    "print(sumaDos,\"\\n\")\n",
    "\n",
    "\n",
    "# Producto punto\n",
    "producto = np.dot(vectorUno, vectorDos)\n",
    "print(producto,\"\\n\")"
   ]
  },
  {
   "cell_type": "code",
   "execution_count": 2,
   "metadata": {},
   "outputs": [
    {
     "name": "stdout",
     "output_type": "stream",
     "text": [
      "[[ True  True  True]\n",
      " [ True  True  True]\n",
      " [ True  True  True]]\n"
     ]
    }
   ],
   "source": [
    "import numpy as np\n",
    "\n",
    "# 1. Crear un arreglo 3x3 de numpy con todas las entradas igual a True\n",
    "arr1 = np.full((3, 3), True)\n",
    "print(arr1)\n",
    "\n",
    "\n"
   ]
  },
  {
   "cell_type": "code",
   "execution_count": 3,
   "metadata": {},
   "outputs": [
    {
     "name": "stdout",
     "output_type": "stream",
     "text": [
      "[ 0 -1  2 -1  4 -1  6 -1  8 -1]\n"
     ]
    }
   ],
   "source": [
    "# 2. Reemplazar todos los números impares del siguiente arreglo por el valor de -1\n",
    "arr2 = np.array([0, 1, 2, 3, 4, 5, 6, 7, 8, 9])\n",
    "arr2[arr2 % 2 != 0] = -1\n",
    "print(arr2)\n",
    "\n"
   ]
  },
  {
   "cell_type": "code",
   "execution_count": 4,
   "metadata": {},
   "outputs": [
    {
     "name": "stdout",
     "output_type": "stream",
     "text": [
      "[[0 1 2 3 4]\n",
      " [5 6 7 8 9]]\n"
     ]
    }
   ],
   "source": [
    "# 3. Convertir el siguiente arreglo 1D a un arreglo 2D\n",
    "arr3 = np.array([0, 1, 2, 3, 4, 5, 6, 7, 8, 9])\n",
    "arr3_2D = arr3.reshape(2, 5)  # Convertirlo a una matriz 2x5\n",
    "print(arr3_2D)"
   ]
  },
  {
   "cell_type": "code",
   "execution_count": 15,
   "metadata": {},
   "outputs": [
    {
     "data": {
      "text/html": [
       "<div>\n",
       "<style scoped>\n",
       "    .dataframe tbody tr th:only-of-type {\n",
       "        vertical-align: middle;\n",
       "    }\n",
       "\n",
       "    .dataframe tbody tr th {\n",
       "        vertical-align: top;\n",
       "    }\n",
       "\n",
       "    .dataframe thead th {\n",
       "        text-align: right;\n",
       "    }\n",
       "</style>\n",
       "<table border=\"1\" class=\"dataframe\">\n",
       "  <thead>\n",
       "    <tr style=\"text-align: right;\">\n",
       "      <th></th>\n",
       "      <th>ITEM</th>\n",
       "      <th>NOMBRES</th>\n",
       "      <th>APELLIDOS</th>\n",
       "      <th>Programa</th>\n",
       "      <th>Genero</th>\n",
       "      <th>Matematicas</th>\n",
       "      <th>Español</th>\n",
       "      <th>Ciencias</th>\n",
       "      <th>Idiomas</th>\n",
       "    </tr>\n",
       "  </thead>\n",
       "  <tbody>\n",
       "    <tr>\n",
       "      <th>0</th>\n",
       "      <td>1</td>\n",
       "      <td>Juan</td>\n",
       "      <td>García</td>\n",
       "      <td>Contabilidad</td>\n",
       "      <td>Masculino</td>\n",
       "      <td>1,66</td>\n",
       "      <td>2,19</td>\n",
       "      <td>3,56</td>\n",
       "      <td>2,58</td>\n",
       "    </tr>\n",
       "    <tr>\n",
       "      <th>1</th>\n",
       "      <td>2</td>\n",
       "      <td>María</td>\n",
       "      <td>Pérez</td>\n",
       "      <td>Mercadeo</td>\n",
       "      <td>Femenino</td>\n",
       "      <td>3,21</td>\n",
       "      <td>2,54</td>\n",
       "      <td>1,98</td>\n",
       "      <td>3,76</td>\n",
       "    </tr>\n",
       "    <tr>\n",
       "      <th>2</th>\n",
       "      <td>3</td>\n",
       "      <td>Pedro</td>\n",
       "      <td>Fernández</td>\n",
       "      <td>Sistemas</td>\n",
       "      <td>Masculino</td>\n",
       "      <td>3,10</td>\n",
       "      <td>3,11</td>\n",
       "      <td>2,62</td>\n",
       "      <td>2,42</td>\n",
       "    </tr>\n",
       "    <tr>\n",
       "      <th>3</th>\n",
       "      <td>4</td>\n",
       "      <td>Ana</td>\n",
       "      <td>Sánchez</td>\n",
       "      <td>Administracion</td>\n",
       "      <td>Femenino</td>\n",
       "      <td>NaN</td>\n",
       "      <td>2,50</td>\n",
       "      <td>3,66</td>\n",
       "      <td>1,93</td>\n",
       "    </tr>\n",
       "    <tr>\n",
       "      <th>4</th>\n",
       "      <td>5</td>\n",
       "      <td>Luis</td>\n",
       "      <td>González</td>\n",
       "      <td>Salud</td>\n",
       "      <td>Masculino</td>\n",
       "      <td>2,91</td>\n",
       "      <td>2,59</td>\n",
       "      <td>2,45</td>\n",
       "      <td>NaN</td>\n",
       "    </tr>\n",
       "  </tbody>\n",
       "</table>\n",
       "</div>"
      ],
      "text/plain": [
       "   ITEM NOMBRES  APELLIDOS        Programa     Genero Matematicas Español  \\\n",
       "0     1    Juan     García    Contabilidad  Masculino        1,66    2,19   \n",
       "1     2   María      Pérez        Mercadeo   Femenino        3,21    2,54   \n",
       "2     3   Pedro  Fernández        Sistemas  Masculino        3,10    3,11   \n",
       "3     4     Ana    Sánchez  Administracion   Femenino         NaN    2,50   \n",
       "4     5    Luis   González           Salud  Masculino        2,91    2,59   \n",
       "\n",
       "  Ciencias Idiomas  \n",
       "0     3,56    2,58  \n",
       "1     1,98    3,76  \n",
       "2     2,62    2,42  \n",
       "3     3,66    1,93  \n",
       "4     2,45     NaN  "
      ]
     },
     "execution_count": 15,
     "metadata": {},
     "output_type": "execute_result"
    }
   ],
   "source": [
    "import pandas as pd\n",
    "\n",
    "df_file_csv = pd.read_csv('./datos/CalificacionesTXT.csv')\n",
    "df_file_csv.head()"
   ]
  }
 ],
 "metadata": {
  "kernelspec": {
   "display_name": "venv",
   "language": "python",
   "name": "python3"
  },
  "language_info": {
   "codemirror_mode": {
    "name": "ipython",
    "version": 3
   },
   "file_extension": ".py",
   "mimetype": "text/x-python",
   "name": "python",
   "nbconvert_exporter": "python",
   "pygments_lexer": "ipython3",
   "version": "3.13.2"
  }
 },
 "nbformat": 4,
 "nbformat_minor": 2
}
