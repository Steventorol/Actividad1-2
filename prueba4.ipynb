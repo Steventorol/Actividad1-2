{
 "cells": [
  {
   "cell_type": "code",
   "execution_count": null,
   "metadata": {},
   "outputs": [],
   "source": [
    "import sqlite3\n",
    "import pandas as pd\n",
    "\n",
    "conexion = sqlite3.connect(\"./datos/sanoyfresco.db\")\n",
    "\n",
    "total_ventas = pd.read_sql_query(\"\"\"\n",
    "    SELEC SUM(precio_total) AS ingreso_total FROM tickets\n",
    "                                 \"\"\",conexion)\n",
    "print(f\"ingreso total generado en el negocio:{total_ventas['ingresi_total'][0]:,.2f}\")\n",
    "\n",
    "\n",
    "conexion.close()"
   ]
  },
  {
   "cell_type": "code",
   "execution_count": null,
   "metadata": {},
   "outputs": [],
   "source": [
    "conexion = sqlite3.connect(\"./datos/sanoyfresco.db\")\n",
    "\n",
    "tendencia_ventas = pd.read_sql_query(\"\"\"\n",
    "    SELECT strftime('%Y-%m', fecha) AS mes, SUM(precio_total) AS ingresos_mensuales \n",
    "    FROM  tickets\n",
    "    GROUP BY mes\n",
    "    ORDER BY mes\n",
    "\"\"\", conexion)\n",
    "print(\"\\n Tendencia de ingresos mensuales: \")\n",
    "print(tendencia_ventas)\n",
    "\n",
    "conexion.close()"
   ]
  },
  {
   "cell_type": "code",
   "execution_count": null,
   "metadata": {},
   "outputs": [],
   "source": [
    "#3. Análisis por Departamento y Sección\n",
    "3\n"
   ]
  }
 ],
 "metadata": {
  "kernelspec": {
   "display_name": "venv",
   "language": "python",
   "name": "python3"
  },
  "language_info": {
   "codemirror_mode": {
    "name": "ipython",
    "version": 3
   },
   "file_extension": ".py",
   "mimetype": "text/x-python",
   "name": "python",
   "nbconvert_exporter": "python",
   "pygments_lexer": "ipython3",
   "version": "3.13.2"
  }
 },
 "nbformat": 4,
 "nbformat_minor": 2
}
