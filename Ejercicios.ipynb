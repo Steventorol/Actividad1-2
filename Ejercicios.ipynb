{
 "cells": [
  {
   "cell_type": "code",
   "execution_count": 20,
   "metadata": {},
   "outputs": [
    {
     "name": "stderr",
     "output_type": "stream",
     "text": [
      "Matplotlib is building the font cache; this may take a moment.\n"
     ]
    },
    {
     "name": "stdout",
     "output_type": "stream",
     "text": [
      "Archivo cargado correctamente\n",
      "   ID del cliente           Nombre Última fecha de compra  \\\n",
      "0               1       Juan Perez             15/03/2022   \n",
      "1               2    Ana Rodriguez             01/04/2022   \n",
      "2               3  Luisa Hernandez             10/12/2021   \n",
      "3               4    Carlos Garcia             28/02/2022   \n",
      "4               5      Maria Gomez             20/03/2022   \n",
      "\n",
      "   Frecuencia de compra  Valor promedio de la compra  \\\n",
      "0                     5                        200.5   \n",
      "1                     2                         80.0   \n",
      "2                     3                        150.2   \n",
      "3                     1                        300.0   \n",
      "4                     4                         75.8   \n",
      "\n",
      "  Categoría de productos comprados          Método de pago  Edad  \n",
      "0                             Ropa      Tarjeta de crédito  32.0  \n",
      "1                         Juguetes                Efectivo  45.0  \n",
      "2                      Electrónica  Transferencia bancaria  28.0  \n",
      "3                        Alimentos      Tarjeta de crédito  50.0  \n",
      "4                             Ropa                Efectivo  22.0  \n",
      "<class 'pandas.core.frame.DataFrame'>\n",
      "RangeIndex: 157 entries, 0 to 156\n",
      "Data columns (total 8 columns):\n",
      " #   Column                            Non-Null Count  Dtype  \n",
      "---  ------                            --------------  -----  \n",
      " 0   ID del cliente                    157 non-null    int64  \n",
      " 1   Nombre                            155 non-null    object \n",
      " 2   Última fecha de compra            156 non-null    object \n",
      " 3   Frecuencia de compra              157 non-null    int64  \n",
      " 4   Valor promedio de la compra       152 non-null    float64\n",
      " 5   Categoría de productos comprados  151 non-null    object \n",
      " 6   Método de pago                    153 non-null    object \n",
      " 7   Edad                              154 non-null    float64\n",
      "dtypes: float64(2), int64(2), object(4)\n",
      "memory usage: 9.9+ KB\n",
      "None\n"
     ]
    }
   ],
   "source": [
    "import pandas as pd\n",
    "import matplotlib.pyplot as plt\n",
    "\n",
    "\n",
    "#1 Leer la URL desde github del archivo llamado clientes.csv y conocer su informacion principal mediante el uso de atributos y metodos necesarios de pandas.\n",
    "file_url = \"https://raw.githubusercontent.com/rubisabel00/ciencias-de-datos-Sena/main/DocumentosNB03/clientes.csv\"\n",
    "try:\n",
    "    df = pd.read_csv(file_url, encoding='utf-8', sep=',')\n",
    "    print(\"Archivo cargado correctamente\")\n",
    "    print(df.head())\n",
    "    print(df.info())\n",
    "    \n",
    "except Exception as e:\n",
    "    print(f\"Error al leer el archivo: {e}\")\n",
    "    \n"
   ]
  },
  {
   "cell_type": "code",
   "execution_count": 21,
   "metadata": {},
   "outputs": [
    {
     "name": "stdout",
     "output_type": "stream",
     "text": [
      "       ID del cliente  Frecuencia de compra  Valor promedio de la compra  \\\n",
      "count      157.000000            157.000000                    152.00000   \n",
      "mean        82.579618              2.369427                    118.23750   \n",
      "std         47.555248              1.172804                    249.86509   \n",
      "min          1.000000              1.000000                     20.00000   \n",
      "25%         42.000000              1.000000                     65.20000   \n",
      "50%         83.000000              2.000000                     85.10000   \n",
      "75%        124.000000              3.000000                    120.28750   \n",
      "max        161.000000              5.000000                   3110.00000   \n",
      "\n",
      "             Edad  \n",
      "count  154.000000  \n",
      "mean    31.233766  \n",
      "std      9.146443  \n",
      "min      1.000000  \n",
      "25%     26.000000  \n",
      "50%     30.000000  \n",
      "75%     37.000000  \n",
      "max     80.000000  \n"
     ]
    }
   ],
   "source": [
    "#2Realizar una descripcion estadistica de la informacion encontrada y normalizarla (Eliminar los null).\n",
    "print(df.describe())\n",
    "df_limpio = df.dropna()"
   ]
  },
  {
   "cell_type": "code",
   "execution_count": 23,
   "metadata": {},
   "outputs": [
    {
     "data": {
      "image/png": "[encoded data removed]",
      "text/plain": [
       "<Figure size 640x480 with 1 Axes>"
      ]
     },
     "metadata": {},
     "output_type": "display_data"
    }
   ],
   "source": [
    "#3Generar una grafica representativa de la informacion obtenida.\n",
    "\n",
    "if 'Frecuencia de compra' in df_limpio.columns:\n",
    "    df_limpio['Frecuencia de compra'] = pd.to_numeric(df_limpio['Frecuencia de compra'], errors='coerce') \n",
    "    df_limpio = df_limpio.dropna(subset=['Frecuencia de compra'])  \n",
    "    \n",
    "    plt.hist(df_limpio['Frecuencia de compra'], bins=10, edgecolor='black')\n",
    "    plt.title('Distribución de la Frecuencia de Compra')\n",
    "    plt.xlabel('Frecuencia de compra')\n",
    "    plt.ylabel('Frecuencia')\n",
    "    plt.show()\n",
    "else:\n",
    "    print(\"Error: La columna 'Frecuencia de compra' no existe en el DataFrame.\")\n",
    "\n"
   ]
  },
  {
   "cell_type": "code",
   "execution_count": 35,
   "metadata": {},
   "outputs": [
    {
     "name": "stdout",
     "output_type": "stream",
     "text": [
      "Categoría de productos comprados\n",
      "Alimentos       88.634375\n",
      "Electrónica     96.386486\n",
      "Juguetes       194.164474\n",
      "Ropa            92.957143\n",
      "Name: Valor promedio de la compra, dtype: float64\n",
      "Método de pago\n",
      "Efectivo                  113\n",
      "Tarjeta de crédito        102\n",
      "Transferencia bancaria    117\n",
      "Name: Frecuencia de compra, dtype: int64\n"
     ]
    }
   ],
   "source": [
    "#4 Generar dos consultas de agrupamiento de valor agregado a la informacion obtenida.\n",
    "media_por_categoria = df_limpio.groupby('Categoría de productos comprados')['Valor promedio de la compra'].mean()\n",
    "suma_por_metodo_pago = df_limpio.groupby('Método de pago')['Frecuencia de compra'].sum()\n",
    "print(media_por_categoria)\n",
    "print(suma_por_metodo_pago)\n",
    "\n",
    "\n"
   ]
  },
  {
   "cell_type": "code",
   "execution_count": 46,
   "metadata": {},
   "outputs": [
    {
     "name": "stdout",
     "output_type": "stream",
     "text": [
      "   Frecuencia de compra Tipo de Cliente\n",
      "0                     5       Ocasional\n",
      "1                     2           Nuevo\n",
      "2                     3           Nuevo\n",
      "3                     1           Nuevo\n",
      "4                     4           Nuevo\n"
     ]
    }
   ],
   "source": [
    "# 5 Generar nuevas columnas segun sean requeridas para completar la informacion obtenida.\n",
    "\n",
    "df_limpio['Frecuencia de compra'] = pd.to_numeric(df_limpio['Frecuencia de compra'], errors='coerce')\n",
    "df_limpio = df_limpio.dropna(subset=['Frecuencia de compra'])\n",
    "\n",
    "df_limpio['Tipo de Cliente'] = df_limpio['Frecuencia de compra'].apply(\n",
    "    lambda x: 'Frecuente' if x > 10 else ('Ocasional' if 5 <= x <= 10 else 'Nuevo')\n",
    ")\n",
    "print(df_limpio[['Frecuencia de compra', 'Tipo de Cliente']].head())\n",
    "\n"
   ]
  },
  {
   "cell_type": "code",
   "execution_count": 51,
   "metadata": {},
   "outputs": [
    {
     "name": "stdout",
     "output_type": "stream",
     "text": [
      "Archivo exportado correctamente en: c:\\Users\\Steven\\Desktop\\6to TRIMESTRE\\Rubiela Beleño (Python\\Prueba-Python\\clientes_procesados.xlsx\n"
     ]
    }
   ],
   "source": [
    "# 6. Exportar el trabajo a un archivo de Excel\n",
    "import os\n",
    "\n",
    "output_path = \"clientes_procesados.xlsx\"  # Guarda el archivo en el directorio actual\n",
    "\n",
    "try:\n",
    "    df_limpio.to_excel(output_path, index=False)\n",
    "    print(f\"Archivo exportado correctamente en: {os.path.abspath(output_path)}\")\n",
    "except Exception as e:\n",
    "    print(f\"Error al exportar el archivo: {e}\")\n",
    "\n"
   ]
  },
  {
   "cell_type": "code",
   "execution_count": null,
   "metadata": {},
   "outputs": [],
   "source": []
  }
 ],
 "metadata": {
  "kernelspec": {
   "display_name": "venv",
   "language": "python",
   "name": "python3"
  },
  "language_info": {
   "codemirror_mode": {
    "name": "ipython",
    "version": 3
   },
   "file_extension": ".py",
   "mimetype": "text/x-python",
   "name": "python",
   "nbconvert_exporter": "python",
   "pygments_lexer": "ipython3",
   "version": "3.13.2"
  }
 },
 "nbformat": 4,
 "nbformat_minor": 2
}
