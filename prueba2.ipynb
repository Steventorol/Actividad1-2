{
 "cells": [
  {
   "cell_type": "code",
   "execution_count": null,
   "metadata": {},
   "outputs": [],
   "source": [
    "import pandas as pd\n",
    "\n",
    "df_file_cvs=pd.read_csv('./datos/netflix_titles.csv')\n",
    "\n",
    "df_file_cvs\n",
    "\n",
    "filtro_column=df_file_cvs[(df_file_cvs]['type']=='movie')&(df_file_cvs)"
   ]
  }
 ],
 "metadata": {
  "kernelspec": {
   "display_name": "venv",
   "language": "python",
   "name": "python3"
  },
  "language_info": {
   "name": "python",
   "version": "3.13.2"
  }
 },
 "nbformat": 4,
 "nbformat_minor": 2
}
